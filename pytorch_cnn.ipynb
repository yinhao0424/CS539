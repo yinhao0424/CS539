{
  "nbformat": 4,
  "nbformat_minor": 0,
  "metadata": {
    "colab": {
      "name": "update.ipynb",
      "provenance": [],
      "collapsed_sections": [],
      "machine_shape": "hm",
      "include_colab_link": true
    },
    "kernelspec": {
      "name": "python3",
      "display_name": "Python 3"
    },
    "accelerator": "GPU"
  },
  "cells": [
    {
      "cell_type": "markdown",
      "metadata": {
        "id": "view-in-github",
        "colab_type": "text"
      },
      "source": [
        "<a href=\"https://colab.research.google.com/github/yinhao0424/CS539/blob/master/pytorch_cnn.ipynb\" target=\"_parent\"><img src=\"https://colab.research.google.com/assets/colab-badge.svg\" alt=\"Open In Colab\"/></a>"
      ]
    },
    {
      "cell_type": "code",
      "metadata": {
        "id": "8lGZq3XOG0Bl",
        "colab_type": "code",
        "colab": {}
      },
      "source": [
        "import torch\n",
        "import numpy as np\n",
        "from sklearn.model_selection import train_test_split\n",
        "from torch.utils import data\n",
        "import torch.nn as nn\n",
        "import torch.nn.functional as F\n",
        "import torch.optim as optim\n",
        "import matplotlib.pyplot as plt\n",
        "import random\n",
        "device = torch.device(\"cuda\" if torch.cuda.is_available() else \"cpu\")\n",
        "random.seed(8)"
      ],
      "execution_count": 0,
      "outputs": []
    },
    {
      "cell_type": "code",
      "metadata": {
        "id": "eQKQKg29G4F_",
        "colab_type": "code",
        "outputId": "83924e28-c8b4-4fd2-cec8-dd1e08f04cb9",
        "colab": {
          "base_uri": "https://localhost:8080/",
          "height": 118
        }
      },
      "source": [
        "from google.colab import drive\n",
        "drive.mount('/content/drive')\n"
      ],
      "execution_count": 0,
      "outputs": [
        {
          "output_type": "stream",
          "text": [
            "Go to this URL in a browser: https://accounts.google.com/o/oauth2/auth?client_id=947318989803-6bn6qk8qdgf4n4g3pfee6491hc0brc4i.apps.googleusercontent.com&redirect_uri=urn%3aietf%3awg%3aoauth%3a2.0%3aoob&response_type=code&scope=email%20https%3a%2f%2fwww.googleapis.com%2fauth%2fdocs.test%20https%3a%2f%2fwww.googleapis.com%2fauth%2fdrive%20https%3a%2f%2fwww.googleapis.com%2fauth%2fdrive.photos.readonly%20https%3a%2f%2fwww.googleapis.com%2fauth%2fpeopleapi.readonly\n",
            "\n",
            "Enter your authorization code:\n",
            "··········\n",
            "Mounted at /content/drive\n"
          ],
          "name": "stdout"
        }
      ]
    },
    {
      "cell_type": "code",
      "metadata": {
        "id": "bLUDE72dHdUm",
        "colab_type": "code",
        "colab": {}
      },
      "source": [
        "path='/content/drive/My Drive/all_data.npy'\n",
        "images=np.load(path)\n",
        "new_images=images/255"
      ],
      "execution_count": 0,
      "outputs": []
    },
    {
      "cell_type": "code",
      "metadata": {
        "id": "HonmM6oYIKod",
        "colab_type": "code",
        "outputId": "04824c64-a290-485f-e1be-8ae8b7c39710",
        "colab": {
          "base_uri": "https://localhost:8080/",
          "height": 32
        }
      },
      "source": [
        "label_path='/content/drive/My Drive/gray_label.npy'\n",
        "labels=np.load(label_path)\n",
        "mean=np.mean(labels)\n",
        "std=np.std(labels)\n",
        "labels.shape"
      ],
      "execution_count": 0,
      "outputs": [
        {
          "output_type": "execute_result",
          "data": {
            "text/plain": [
              "(28859,)"
            ]
          },
          "metadata": {
            "tags": []
          },
          "execution_count": 7
        }
      ]
    },
    {
      "cell_type": "code",
      "metadata": {
        "id": "GTO43NkpHjVu",
        "colab_type": "code",
        "colab": {}
      },
      "source": [
        "threshhold_up=mean+2*std\n",
        "threshhold_down=mean-2*std\n",
        "labels_c5=labels.copy()\n",
        "labels_c5[labels>=threshhold_up]=2\n",
        "labels_c5[(labels<threshhold_up) & (labels>threshhold_down)]=1\n",
        "labels_c5[labels<threshhold_down]=0\n",
        "# np.unique(labels_c5, return_counts=True)\n"
      ],
      "execution_count": 0,
      "outputs": []
    },
    {
      "cell_type": "code",
      "metadata": {
        "id": "D_FuBfdKJMe9",
        "colab_type": "code",
        "outputId": "085b8a4a-c69b-466e-8a95-845fb4418721",
        "colab": {
          "base_uri": "https://localhost:8080/",
          "height": 263
        }
      },
      "source": [
        "import matplotlib.pyplot as plt\n",
        "import seaborn as sns\n",
        "ax=sns.distplot(labels)\n",
        "\n",
        "\n",
        "fig = ax.get_figure()\n",
        "\n",
        "fig.savefig(\"gaussian_dis.png\")"
      ],
      "execution_count": 0,
      "outputs": [
        {
          "output_type": "display_data",
          "data": {
            "image/png": "[encoded data removed]",
            "text/plain": [
              "<Figure size 432x288 with 1 Axes>"
            ]
          },
          "metadata": {
            "tags": []
          }
        }
      ]
    },
    {
      "cell_type": "code",
      "metadata": {
        "id": "OT515khUvV4v",
        "colab_type": "code",
        "colab": {}
      },
      "source": [
        "# X_train, X_test, y_train, y_test = train_test_split(new_images, labels_c5, test_size=0.05)\n",
        "X_train, X_test, y_train, y_test = train_test_split(new_images, labels_c5, test_size=0.1)"
      ],
      "execution_count": 0,
      "outputs": []
    },
    {
      "cell_type": "code",
      "metadata": {
        "id": "JX2hlZ7gHrtc",
        "colab_type": "code",
        "colab": {}
      },
      "source": [
        "def convert2tensor(X,Y,batch_size):\n",
        "    from torch.utils import data\n",
        "    X_new=np.asarray(X)\n",
        "    X_new_trans=np.transpose(X_new, (0,3, 1,2))\n",
        "    target = np.asarray(Y)\n",
        "    tensor_data = torch.from_numpy(X_new_trans)\n",
        "    tensor_data = tensor_data.float()\n",
        "    tensor_target = torch.from_numpy(target)\n",
        "    loader = data.TensorDataset(tensor_data, tensor_target)\n",
        "    loader_dataset = data.DataLoader(loader, batch_size=batch_size, shuffle=True)\n",
        "    return loader_dataset\n",
        "\n",
        "train_loader=convert2tensor(X_train,y_train,16)\n",
        "test_loader=convert2tensor(X_test,y_test,16)"
      ],
      "execution_count": 0,
      "outputs": []
    },
    {
      "cell_type": "code",
      "metadata": {
        "id": "NFfGyyQQYEtn",
        "colab_type": "code",
        "colab": {}
      },
      "source": [
        "class Net(nn.Module):\n",
        "    def __init__(self):\n",
        "        super(Net, self).__init__()\n",
        "        self.conv1 = nn.Conv2d(in_channels=3, out_channels=8, kernel_size=3,stride=1, padding=1)\n",
        "        self.pool = nn.MaxPool2d(kernel_size=2)\n",
        "        self.conv2 = nn.Conv2d(in_channels=8, out_channels=32, kernel_size=3, stride=1, padding=1)\n",
        "        self.conv3 = nn.Conv2d(in_channels=32, out_channels=64, kernel_size=3, stride=1, padding=1)\n",
        "        self.conv4 = nn.Conv2d(in_channels=64, out_channels=64, kernel_size=3, stride=1, padding=1)\n",
        "\n",
        "        self.fc1 = nn.Linear(64 * 8 * 8, 120)\n",
        "        self.fc2 = nn.Linear(120, 84)\n",
        "        self.fc3 = nn.Linear(84, 3)\n",
        "\n",
        "    def forward(self, x):\n",
        "        x = self.pool(F.relu(self.conv1(x)))\n",
        "        x = self.pool(F.relu(self.conv2(x)))\n",
        "        x = self.pool(F.relu(self.conv3(x)))\n",
        "        x = self.pool(F.relu(self.conv4(x)))\n",
        "        x = x.view(-1, 64 * 8 * 8)\n",
        "        x = F.relu(self.fc1(x))\n",
        "        x = F.relu(self.fc2(x))\n",
        "        x = self.fc3(x)\n",
        "        \n",
        "        return F.log_softmax(x, dim=1)"
      ],
      "execution_count": 0,
      "outputs": []
    },
    {
      "cell_type": "code",
      "metadata": {
        "id": "DyILF6xcHvKR",
        "colab_type": "code",
        "colab": {}
      },
      "source": [
        "# class Net(nn.Module):\n",
        "#     def __init__(self):\n",
        "#         super(Net, self).__init__()\n",
        "#         self.conv1 = nn.Conv2d(in_channels=3, out_channels=8, kernel_size=3,stride=1, padding=1)\n",
        "#         self.pool = nn.MaxPool2d(kernel_size=2)\n",
        "#         self.conv2 = nn.Conv2d(in_channels=8, out_channels=32, kernel_size=5, stride=1, padding=2)\n",
        "#         self.fc1 = nn.Linear(32 * 32 * 32, 120)\n",
        "#         self.fc2 = nn.Linear(120, 84)\n",
        "#         self.fc3 = nn.Linear(84, 3)\n",
        "\n",
        "#     def forward(self, x):\n",
        "#         x = self.pool(F.relu(self.conv1(x)))\n",
        "#         x = self.pool(F.relu(self.conv2(x)))\n",
        "#         x = x.view(-1, 32 * 32 * 32)\n",
        "#         x = F.relu(self.fc1(x))\n",
        "#         x = F.relu(self.fc2(x))\n",
        "#         x = self.fc3(x)\n",
        "#         return x\n",
        "\n",
        "net = Net()\n",
        "# net = SimpleNet(num_classes=3)\n",
        "\n",
        "net.to(device)\n",
        "\n",
        "criterion = nn.CrossEntropyLoss()\n",
        "optimizer = optim.SGD(net.parameters(), lr=0.001, momentum=0.9)\n",
        "train_accuracy=[]\n",
        "\n",
        "n_e=150\n",
        "for epoch in range(n_e):  # loop over the dataset multiple times\n",
        "    correct=0\n",
        "    iterations=0\n",
        "    iter_loss = 0.0\n",
        "    for i, data in enumerate(train_loader, 0):\n",
        "        # get the inputs; data is a list of [inputs, labels]\n",
        "        inputs, labels = data[0].to(device), data[1].to(device)\n",
        "\n",
        "        # zero the parameter gradients\n",
        "        optimizer.zero_grad()\n",
        "\n",
        "        # forward + backward + optimize\n",
        "        outputs = net(inputs)\n",
        "        labels_c= torch.tensor(labels, dtype=torch.long,device=device)\n",
        "        loss = criterion(outputs, labels_c).to(device)\n",
        "        loss.backward()\n",
        "        optimizer.step()\n",
        "        iterations+=1\n",
        "        # print statistics\n",
        "        iter_loss += loss.item()\n",
        "        # Record the correct predictions for training data \n",
        "        _, predicted = torch.max(outputs, 1)\n",
        "        correct += (predicted == labels).sum()\n",
        "        train_accuracy.append((100 * correct / X_train.shape[0]))\n",
        "    correct = 0\n",
        "    total = 0\n",
        "    with torch.no_grad():\n",
        "        for data in test_loader:\n",
        "            images, labels = data[0].to(device), data[1].to(device)\n",
        "            outputs = net(images).to(device)\n",
        "            _, predicted = torch.max(outputs.data, 1)\n",
        "            total += labels.size(0)\n",
        "            correct += (predicted == labels).sum().item()\n",
        "    print('Accuracy of the network on the 1000 test images: %d %%' % (100*correct/total))\n",
        "    print('Epoch {}/{}, Training Loss: {:.3f}, Training Accuracy: {:.3f}'.format(epoch+1, n_e,iter_loss/iterations,train_accuracy[-1]))            \n",
        "print('Finished Training')\n",
        "\n",
        "\n",
        "PATH = './three_class_1.pth'\n"
      ],
      "execution_count": 0,
      "outputs": []
    },
    {
      "cell_type": "code",
      "metadata": {
        "id": "AjqIOMZ7IalA",
        "colab_type": "code",
        "outputId": "11ebd528-c79c-4733-c5f6-5ba5cba794be",
        "colab": {
          "base_uri": "https://localhost:8080/",
          "height": 102
        }
      },
      "source": [
        "classes = (0,1,2)\n",
        "class_correct = list(0. for i in range(3))\n",
        "class_total = list(0. for i in range(3))\n",
        "pred_list=[]\n",
        "y_true=[]\n",
        "with torch.no_grad():  \n",
        "    for data in test_loader:\n",
        "        images, labels = data[0].to(device),data[1].to(device)\n",
        "        outputs = net(images).to(device)\n",
        "        _, predicted = torch.max(outputs, 1)\n",
        "        c = (predicted == labels).squeeze()\n",
        "        pred_list.append(predicted)\n",
        "        y_true.append(labels)\n",
        "        \n",
        "        for i in range(len(labels)):\n",
        "            label = labels[i]\n",
        "            label_int=torch.tensor(label,dtype=torch.int16)\n",
        "            class_correct[label_int] += c[i].item()\n",
        "            class_total[label_int] += 1\n",
        "        \n",
        "\n",
        "\n",
        "for i in range(3):\n",
        "    print('Accuracy of %5s : %2d %%' % (\n",
        "        classes[i], 100 * class_correct[i] / class_total[i]))"
      ],
      "execution_count": 0,
      "outputs": [
        {
          "output_type": "stream",
          "text": [
            "/usr/local/lib/python3.6/dist-packages/ipykernel_launcher.py:17: UserWarning: To copy construct from a tensor, it is recommended to use sourceTensor.clone().detach() or sourceTensor.clone().detach().requires_grad_(True), rather than torch.tensor(sourceTensor).\n"
          ],
          "name": "stderr"
        },
        {
          "output_type": "stream",
          "text": [
            "Accuracy of     0 :  0 %\n",
            "Accuracy of     1 : 99 %\n",
            "Accuracy of     2 :  0 %\n"
          ],
          "name": "stdout"
        }
      ]
    },
    {
      "cell_type": "code",
      "metadata": {
        "id": "Q4aFuUmmof2a",
        "colab_type": "code",
        "outputId": "30c65141-3c43-418d-c62e-c55c1e869ace",
        "colab": {
          "base_uri": "https://localhost:8080/",
          "height": 32
        }
      },
      "source": [
        "import sklearn.metrics as metrics\n",
        "fpr, tpr, threshold = metrics.roc_curve(Y_test, preds)\n"
      ],
      "execution_count": 0,
      "outputs": [
        {
          "output_type": "execute_result",
          "data": {
            "text/plain": [
              "[228.0, 989.0, 226.0]"
            ]
          },
          "metadata": {
            "tags": []
          },
          "execution_count": 61
        }
      ]
    },
    {
      "cell_type": "code",
      "metadata": {
        "id": "qwR18Ya_RCV8",
        "colab_type": "code",
        "colab": {}
      },
      "source": [
        "y_t=torch.cat(y_true,dim=0)\n",
        "y_p=torch.cat(pred_list,dim=0)\n",
        "y_t_n=y_t.cpu().numpy()\n",
        "y_p_n=y_p.cpu().numpy()\n"
      ],
      "execution_count": 0,
      "outputs": []
    },
    {
      "cell_type": "code",
      "metadata": {
        "id": "AXbUs6Im0ko0",
        "colab_type": "code",
        "outputId": "5e17f2ad-1a7d-4f76-8938-dcd26332d30d",
        "colab": {
          "base_uri": "https://localhost:8080/",
          "height": 65
        }
      },
      "source": [
        "import sklearn.metrics as metrics\n",
        "metrics.confusion_matrix(y_t_n, y_p_n,labels=[0,1,2])"
      ],
      "execution_count": 0,
      "outputs": [
        {
          "output_type": "execute_result",
          "data": {
            "text/plain": [
              "array([[  0, 232,   0],\n",
              "       [  0, 993,   1],\n",
              "       [  0, 217,   0]])"
            ]
          },
          "metadata": {
            "tags": []
          },
          "execution_count": 26
        }
      ]
    }
  ]
}